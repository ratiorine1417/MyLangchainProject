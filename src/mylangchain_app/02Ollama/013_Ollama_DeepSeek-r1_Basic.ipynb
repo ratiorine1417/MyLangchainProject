{
 "cells": [
  {
   "cell_type": "markdown",
   "metadata": {},
   "source": [
    "#### 1. 패키지 설치"
   ]
  },
  {
   "cell_type": "code",
   "execution_count": null,
   "metadata": {},
   "outputs": [],
   "source": [
    "# %pip install -q langchain\n",
    "# %pip install -q langchain-ollama"
   ]
  },
  {
   "cell_type": "markdown",
   "metadata": {},
   "source": [
    "#### 로컬 Ollama로 설치한 deepseek-r1:1.5b 모델을 사용하기\n",
    "##### ollama run deepseek-r1:1.5b"
   ]
  },
  {
   "cell_type": "code",
   "execution_count": 2,
   "metadata": {},
   "outputs": [
    {
     "name": "stderr",
     "output_type": "stream",
     "text": [
      "C:\\Users\\user\\AppData\\Local\\Temp\\ipykernel_27772\\633809197.py:6: LangChainDeprecationWarning: The class `Ollama` was deprecated in LangChain 0.3.1 and will be removed in 1.0.0. An updated version of the class exists in the :class:`~langchain-ollama package and should be used instead. To use it run `pip install -U :class:`~langchain-ollama` and import as `from :class:`~langchain_ollama import OllamaLLM``.\n",
      "  llm = Ollama(model=\"deepseek-r1:1.5b\")\n",
      "C:\\Users\\user\\AppData\\Local\\Temp\\ipykernel_27772\\633809197.py:15: LangChainDeprecationWarning: The class `LLMChain` was deprecated in LangChain 0.1.17 and will be removed in 1.0. Use :meth:`~RunnableSequence, e.g., `prompt | llm`` instead.\n",
      "  chain = LLMChain(llm=llm, prompt=prompt_template)\n"
     ]
    },
    {
     "name": "stdout",
     "output_type": "stream",
     "text": [
      "<class 'dict'>\n",
      "{'question': 'What is LangChain?', 'text': \"<think>\\n\\n</think>\\n\\nLangChain is a Python library that simplifies the process of building and training language models using generative AI. It provides an intuitive interface for defining tasks, configuring model architectures, and executing pipeline executions. Key features include:\\n\\n1. **Task Definitions**: Users can define their own tasks by specifying inputs and outputs, which are automatically parsed into the appropriate format for the language model.\\n\\n2. **Model Configuration**: LangChain supports various models like BERT, GPT, and others, offering flexibility in choosing or creating custom architectures.\\n\\n3. **Pipeline Execution**: It allows users to define a sequence of processing steps (e.g., tokenization, decoding) within a pipeline, enabling complex tasks like text summarization, translation, and more.\\n\\n4. **APIs**: LangChain provides RESTful APIs for model loading, task definition, and execution, as well as Python APIs that are simple to use and extendable.\\n\\n5. **Integration**: It integrates with major AI platforms like OpenAI, Hugging Face, and Amazon's S3, allowing users to leverage their models without additional setup.\\n\\nLangChain is designed to reduce the barrier to entry for developing custom language models while still offering significant flexibility and power compared to standalone libraries.\"}\n",
      "<think>\n",
      "\n",
      "</think>\n",
      "\n",
      "LangChain is a Python library that simplifies the process of building and training language models using generative AI. It provides an intuitive interface for defining tasks, configuring model architectures, and executing pipeline executions. Key features include:\n",
      "\n",
      "1. **Task Definitions**: Users can define their own tasks by specifying inputs and outputs, which are automatically parsed into the appropriate format for the language model.\n",
      "\n",
      "2. **Model Configuration**: LangChain supports various models like BERT, GPT, and others, offering flexibility in choosing or creating custom architectures.\n",
      "\n",
      "3. **Pipeline Execution**: It allows users to define a sequence of processing steps (e.g., tokenization, decoding) within a pipeline, enabling complex tasks like text summarization, translation, and more.\n",
      "\n",
      "4. **APIs**: LangChain provides RESTful APIs for model loading, task definition, and execution, as well as Python APIs that are simple to use and extendable.\n",
      "\n",
      "5. **Integration**: It integrates with major AI platforms like OpenAI, Hugging Face, and Amazon's S3, allowing users to leverage their models without additional setup.\n",
      "\n",
      "LangChain is designed to reduce the barrier to entry for developing custom language models while still offering significant flexibility and power compared to standalone libraries.\n"
     ]
    }
   ],
   "source": [
    "from langchain.llms import Ollama\n",
    "from langchain.prompts import PromptTemplate\n",
    "from langchain.chains import LLMChain\n",
    "\n",
    "# Ollama를 사용하여 로컬에서 실행 중인 deepseek-r1 모델을 로드\n",
    "llm = Ollama(model=\"deepseek-r1:1.5b\")\n",
    "\n",
    "# 프롬프트 템플릿 정의\n",
    "prompt_template = PromptTemplate(\n",
    "    input_variables=[\"question\"],\n",
    "    template=\"Q: {question}\\nA:\"\n",
    ")\n",
    "\n",
    "# LLMChain 생성\n",
    "chain = LLMChain(llm=llm, prompt=prompt_template)\n",
    "\n",
    "# 질문을 입력하고 모델의 응답을 받음\n",
    "question = \"What is LangChain?\"\n",
    "response = chain.invoke({\"question\": question})\n",
    "\n",
    "# 결과 출력\n",
    "print(type(response))\n",
    "print(response)\n",
    "print(response[\"text\"])"
   ]
  },
  {
   "cell_type": "markdown",
   "metadata": {},
   "source": [
    "##### 최신버전 LangChain에서는 ChatOllama와 RunnableSequence(prompt | llm) 를 사용"
   ]
  },
  {
   "cell_type": "code",
   "execution_count": 3,
   "metadata": {},
   "outputs": [
    {
     "name": "stdout",
     "output_type": "stream",
     "text": [
      "<class 'langchain_core.messages.ai.AIMessage'>\n",
      "content='<think>\\nOkay, so I\\'m trying to understand what Python is. I know it\\'s related to programming, but I\\'m not exactly sure how. Let me start by breaking down the name—Python has two parts: \"py\" which sounds like \"python,\" and \"hon.\" Maybe that means something specific about its structure.\\n\\nI\\'ve heard people talk about programming languages before; Python must be one of them. So maybe it\\'s a popular language used for creating software or applications. But what exactly does it do? I remember seeing some code examples in my classes, like print(\"Hello World\") and def hello(): pass. These look simple, but they\\'re just starting points.\\n\\nI think the main thing Python is known for is its object-oriented programming capabilities. That means you can create objects (like classes) and have methods inside them to perform tasks. That sounds a bit complicated, though. Maybe I\\'m missing something. I\\'ve also heard terms like metaclasses and decorators thrown around—those might be related to how Python works at a deeper level.\\n\\nOne thing that stands out is the syntax in Python. It has rules about indentation, brackets, commas, etc. For example, if you have \"print(x * y)\", it\\'s straightforward, but if you want nested loops or conditionals, things get more involved. I guess that makes the language versatile for different types of programming tasks.\\n\\nI\\'m also curious about where to learn more about Python. The name suggests it has a large community and resources online. Maybe platforms like Coursera, edX have introductory courses on programming languages, including Python. But if someone isn\\'t familiar with another programming language like Java or C++, what can they do? I should look into their alternatives.\\n\\nI wonder how Python compares to other languages in terms of functionality and efficiency. For instance, Python is often mentioned as being great for data manipulation and web development, even though it\\'s slower than compiled languages. So it\\'s useful for certain tasks but not the fastest overall.\\n\\nThinking about its structure again, Python uses a mix of infix notation (like \"3 + 4\") with an abstract syntax tree (AST). This AST allows for more flexible code evaluation and can handle various types of expressions. It sounds powerful because you don\\'t have to worry too much about operator precedence or nested structures since the interpreter handles that internally.\\n\\nBut I\\'m still a bit confused about why someone would want to learn Python if it\\'s so flexible and versatile. Maybe it\\'s because it\\'s used in a wide range of applications, from web development and data analysis to machine learning and more complex systems. That makes sense because having such a general-purpose language can be very valuable.\\n\\nI also wonder how the learning curve works for someone new to programming. Python has high-level syntax compared to lower-level languages like C or Java, which might make it easier to start with without getting bogged down by syntax errors. However, as you progress through more advanced topics, the complexity increases.\\n\\nAnother aspect is its cross-platform nature. It can run on various operating systems and environments, making it accessible. This could be a plus for developers who need reliable tools across different devices or setups.\\n\\nI\\'m trying to think of real-world applications where Python shines. The example I saw earlier about building a chat application using Flask is interesting because Flask allows sending messages over HTTP without any server setup, relying on the browser\\'s network. That\\'s cool and shows how versatile it can be for different tasks.\\n\\nBut I\\'m still not sure about the differences between other languages like JavaScript or Ruby compared to Python. Maybe Python was designed with something in mind that made it suitable for data structures and algorithms as well. I think it\\'s also known for its dynamic typing, which means you can write functions without worrying about type safety upfront, making code safer on a per-line basis.\\n\\nI should probably look into some tutorials or documentation to get a better grasp of how Python works and what it offers compared to other languages. Understanding the basics like variables, loops, conditionals, functions, classes, and exception handling is probably essential before diving deeper into more advanced topics.\\n\\nIn summary, Python is a high-level programming language known for its simplicity in syntax, object-oriented features, dynamic typing, and support for various data structures. It\\'s widely used for software development, web applications, machine learning, and more. Learning it can be helpful if you\\'re interested in these areas or want something versatile that can handle different types of tasks.\\n</think>\\n\\nPython is a high-level programming language known for its simplicity in syntax, object-oriented features, dynamic typing, and support for various data structures. It is widely used for software development, web applications, machine learning, and more. Learning Python can be beneficial if you are interested in these areas or want something versatile that can handle different types of tasks.' additional_kwargs={} response_metadata={'model': 'deepseek-r1:1.5b', 'created_at': '2025-09-19T06:39:05.2365148Z', 'done': True, 'done_reason': 'stop', 'total_duration': 51508892400, 'load_duration': 203108500, 'prompt_eval_count': 24, 'prompt_eval_duration': 686734000, 'eval_count': 973, 'eval_duration': 50616933300, 'model_name': 'deepseek-r1:1.5b'} id='run--53b691b8-c8c2-4a0d-ace9-366eb427b1c3-0' usage_metadata={'input_tokens': 24, 'output_tokens': 973, 'total_tokens': 997}\n"
     ]
    }
   ],
   "source": [
    "from langchain_ollama import ChatOllama\n",
    "from langchain_core.prompts import ChatPromptTemplate\n",
    "\n",
    "# Ollama를 사용하여 로컬에서 실행 중인 llama3.2 모델 로드\n",
    "llm = ChatOllama(model=\"deepseek-r1:1.5b\")\n",
    "\n",
    "# 프롬프트 템플릿 정의\n",
    "# prompt_template = PromptTemplate.from_template(\"Q: {question}\\nA:\")\n",
    "\n",
    "# 더 정확한 응답을 위한 개선된 프롬프트\n",
    "prompt_template = ChatPromptTemplate.from_messages([\n",
    "    (\"system\", \"You are an AI assistant that provides accurate and detailed answers.\"),\n",
    "    (\"human\", \"Q: {question}\\nA:\")\n",
    "])\n",
    "\n",
    "# 최신 LangChain 방식: RunnableSequence 활용\n",
    "chain = prompt_template | llm\n",
    "\n",
    "# 실행 예시\n",
    "question = \"What is Pyhon?\"\n",
    "response = chain.invoke({\"question\": question})\n",
    "\n",
    "print(type(response))\n",
    "print(response)"
   ]
  },
  {
   "cell_type": "code",
   "execution_count": 4,
   "metadata": {},
   "outputs": [
    {
     "name": "stdout",
     "output_type": "stream",
     "text": [
      "<think>\n",
      "Okay, so I'm trying to understand what Python is. I know it's related to programming, but I'm not exactly sure how. Let me start by breaking down the name—Python has two parts: \"py\" which sounds like \"python,\" and \"hon.\" Maybe that means something specific about its structure.\n",
      "\n",
      "I've heard people talk about programming languages before; Python must be one of them. So maybe it's a popular language used for creating software or applications. But what exactly does it do? I remember seeing some code examples in my classes, like print(\"Hello World\") and def hello(): pass. These look simple, but they're just starting points.\n",
      "\n",
      "I think the main thing Python is known for is its object-oriented programming capabilities. That means you can create objects (like classes) and have methods inside them to perform tasks. That sounds a bit complicated, though. Maybe I'm missing something. I've also heard terms like metaclasses and decorators thrown around—those might be related to how Python works at a deeper level.\n",
      "\n",
      "One thing that stands out is the syntax in Python. It has rules about indentation, brackets, commas, etc. For example, if you have \"print(x * y)\", it's straightforward, but if you want nested loops or conditionals, things get more involved. I guess that makes the language versatile for different types of programming tasks.\n",
      "\n",
      "I'm also curious about where to learn more about Python. The name suggests it has a large community and resources online. Maybe platforms like Coursera, edX have introductory courses on programming languages, including Python. But if someone isn't familiar with another programming language like Java or C++, what can they do? I should look into their alternatives.\n",
      "\n",
      "I wonder how Python compares to other languages in terms of functionality and efficiency. For instance, Python is often mentioned as being great for data manipulation and web development, even though it's slower than compiled languages. So it's useful for certain tasks but not the fastest overall.\n",
      "\n",
      "Thinking about its structure again, Python uses a mix of infix notation (like \"3 + 4\") with an abstract syntax tree (AST). This AST allows for more flexible code evaluation and can handle various types of expressions. It sounds powerful because you don't have to worry too much about operator precedence or nested structures since the interpreter handles that internally.\n",
      "\n",
      "But I'm still a bit confused about why someone would want to learn Python if it's so flexible and versatile. Maybe it's because it's used in a wide range of applications, from web development and data analysis to machine learning and more complex systems. That makes sense because having such a general-purpose language can be very valuable.\n",
      "\n",
      "I also wonder how the learning curve works for someone new to programming. Python has high-level syntax compared to lower-level languages like C or Java, which might make it easier to start with without getting bogged down by syntax errors. However, as you progress through more advanced topics, the complexity increases.\n",
      "\n",
      "Another aspect is its cross-platform nature. It can run on various operating systems and environments, making it accessible. This could be a plus for developers who need reliable tools across different devices or setups.\n",
      "\n",
      "I'm trying to think of real-world applications where Python shines. The example I saw earlier about building a chat application using Flask is interesting because Flask allows sending messages over HTTP without any server setup, relying on the browser's network. That's cool and shows how versatile it can be for different tasks.\n",
      "\n",
      "But I'm still not sure about the differences between other languages like JavaScript or Ruby compared to Python. Maybe Python was designed with something in mind that made it suitable for data structures and algorithms as well. I think it's also known for its dynamic typing, which means you can write functions without worrying about type safety upfront, making code safer on a per-line basis.\n",
      "\n",
      "I should probably look into some tutorials or documentation to get a better grasp of how Python works and what it offers compared to other languages. Understanding the basics like variables, loops, conditionals, functions, classes, and exception handling is probably essential before diving deeper into more advanced topics.\n",
      "\n",
      "In summary, Python is a high-level programming language known for its simplicity in syntax, object-oriented features, dynamic typing, and support for various data structures. It's widely used for software development, web applications, machine learning, and more. Learning it can be helpful if you're interested in these areas or want something versatile that can handle different types of tasks.\n",
      "</think>\n",
      "\n",
      "Python is a high-level programming language known for its simplicity in syntax, object-oriented features, dynamic typing, and support for various data structures. It is widely used for software development, web applications, machine learning, and more. Learning Python can be beneficial if you are interested in these areas or want something versatile that can handle different types of tasks.\n"
     ]
    }
   ],
   "source": [
    "print(response.content)"
   ]
  },
  {
   "cell_type": "code",
   "execution_count": 7,
   "metadata": {},
   "outputs": [
    {
     "name": "stdout",
     "output_type": "stream",
     "text": [
      "<think>\n",
      "Okay, the user is asking \"What is Python?\" and I need to provide a detailed answer. Let me start by recalling the basics of Python. Python is a high-level programming language, right? It's known for being easy to read and write, which makes it popular among beginners. I should mention its syntax that's similar to English, which helps in understanding.\n",
      "\n",
      "Next, I should talk about its versatility. Python is used in various fields like web development, data analysis, artificial intelligence, and more. Maybe mention some popular frameworks or libraries, like Django for web, NumPy for data analysis, TensorFlow for AI. That shows its wide applicability.\n",
      "\n",
      "I should also mention the community and ecosystem. Python has a large community, so there's lots of resources, tutorials, and libraries. The fact that it's open-source and has a strong emphasis on readability and simplicity is important. Maybe note that it's cross-platform, meaning it works on different operating systems.\n",
      "\n",
      "Oh, and the versioning system. Python versions are numbered, like 3.10, and there's a release cycle. That's a good point to include. Also, the fact that it's dynamically typed, which allows for more flexibility in coding.\n",
      "\n",
      "Wait, should I mention the Zen of Python? That's a collection of 26 simple guidelines that promote Python's philosophy. Including that could add depth. But maybe keep it brief.\n",
      "\n",
      "I need to structure the answer clearly. Start with a definition, then key features, applications, community, and maybe some technical details like versioning and syntax. Make sure it's not too technical but still informative. Avoid jargon where possible, but some terms are necessary.\n",
      "\n",
      "Check for any common misconceptions. For example, Python isn't just for data science; it's also used in system scripting. Also, note that it's not a compiled language, so it's interpreted. That's a key point about its execution.\n",
      "\n",
      "Okay, putting it all together in a coherent way. Start with a definition, then go into features, applications, community, and technical aspects. Make sure the answer is accurate and covers the main points without being too verbose.\n",
      "</think>\n",
      "\n",
      "파이썬은 **고급 언어**로, 프로그래밍 언어의 **구조화된 문법**과 **쉽고 명확한 코딩 방식**을 특징으로 하는 언어입니다. Python은 **고급 언어(High-Level Language)**로, 코드의 간결함과 가독성을 강조하며, **정해진 타입을 사용하지 않아도 되는 동적으로 타입을 지원**하는 특징이 있습니다.\n",
      "\n",
      "---\n",
      "\n",
      "### 🧩 주요 특징\n",
      "1. **쉬운 문법**  \n",
      "   Python은 영어에 가까운 문법을 사용하여 **코드가 간결하고 명확**하게 작성할 수 있습니다.  \n",
      "   예:  \n",
      "   ```python\n",
      "   print(\"Hello, World!\")\n",
      "   ```\n",
      "\n",
      "2. **다중 언어 지원**  \n",
      "   Python은 **C, C++, Java, JavaScript** 등 다양한 언어의 문법을 기반으로 짜서 **다양한 프로그래밍 분야**에서 사용됩니다.\n",
      "\n",
      "3. **열거형 언어**  \n",
      "   Python은 **열거형 언어(Enumerate Language)**로, 리스트의 인덱스를 직접 사용할 수 있습니다.  \n",
      "   예:  \n",
      "   ```python\n",
      "   fruits = [\"apple\", \"banana\", \"cherry\"]\n",
      "   for index, fruit in enumerate(fruits):\n",
      "       print(index, fruit)\n",
      "   ```\n",
      "\n",
      "4. **다중 언어 지원**  \n",
      "   Python은 **C, C++, Java, JavaScript** 등 다양한 언어의 문법을 기반으로 짜서 **다양한 프로그래밍 분야**에서 사용됩니다.\n",
      "\n",
      "5. **열거형 언어**  \n",
      "   Python은 **열거형 언어(Enumerate Language)**로, 리스트의 인덱스를 직접 사용할 수 있습니다.  \n",
      "   예:  \n",
      "   ```python\n",
      "   fruits = [\"apple\", \"banana\", \"cherry\"]\n",
      "   for index, fruit in enumerate(fruits):\n",
      "       print(index, fruit)\n",
      "   ```\n",
      "\n",
      "---\n",
      "\n",
      "### 🌐 주요 활용 분야\n",
      "- **웹 개발** (Django, Flask 등)  \n",
      "- **데이터 분석** (Pandas, NumPy 등)  \n",
      "- **인공지능** (TensorFlow, PyTorch 등)  \n",
      "- **시스템 관리** (Ansible, Chef 등)  \n",
      "- **기초 프로그래밍** (이론적 이해에 도움)  \n",
      "- **사용자 정의 함수와 모듈** (복잡한 프로젝트 분석에 유용)\n",
      "\n",
      "---\n",
      "\n",
      "### 📚 커뮤니티와 라이브러리\n",
      "- **크로스 플랫폼** (Windows, macOS, Linux, iOS, Android 등)  \n",
      "- **열거형 언어** (Python 3.10 이상)  \n",
      "- **Python의 개발자 커뮤니티**는 **크로스 플랫폼**과 **다양한 프로그래밍 분야**에서 활동하며, **수많은 라이브러리**와 **튜토리얼**을 제공합니다.  \n",
      "- **Python의 Zen of Python**은 프로그래밍의 핵심 원칙을 정리한 문서로, 코드를 작성할 때의 원칙을 제시합니다.\n",
      "\n",
      "---\n",
      "\n",
      "### 📦 버전 관리\n",
      "- Python은 **버전을 숫자로 표현**합니다.  \n",
      "  예:  \n",
      "  - Python 3.10  \n",
      "  - Python 3.11  \n",
      "  - Python 3.12  \n",
      "- **업데이트**는 주기적으로 이루어지며, **Python의 공식 리lease**는 **모두 3월**에 이루어집니다.\n",
      "\n",
      "---\n",
      "\n",
      "### 🧠 요약\n",
      "Python은 **쉬운 문법**, **다양한 활용 분야**, **크로스 플랫폼 지원**, **열거형 언어**, **활발한 커뮤니티**를 특징으로, **데이터 분석, AI, 웹 개발** 등 다양한 분야에서 흔히 사용됩니다. 🌟\n"
     ]
    }
   ],
   "source": [
    "from langchain_ollama import ChatOllama\n",
    "from langchain_core.prompts import ChatPromptTemplate\n",
    "\n",
    "# Ollama를 사용하여 로컬에서 실행 중인 llama3.2 모델 로드\n",
    "llm = ChatOllama(model=\"qwen3:1.7b\")\n",
    "\n",
    "# 더 정확한 응답을 위한 개선된 프롬프트\n",
    "prompt_template = ChatPromptTemplate.from_messages([\n",
    "    (\"system\", \"You are an AI assistant that provides accurate and detailed answers.\"),\n",
    "    (\"human\", \"Q: {question}\\nA:\")\n",
    "])\n",
    "\n",
    "# 최신 LangChain 방식: RunnableSequence 활용\n",
    "chain = prompt_template | llm\n",
    "\n",
    "# 실행 예시\n",
    "question = \"파이썬은 무엇인가요?\"\n",
    "response = chain.invoke({\"question\": question})\n",
    "\n",
    "print(response.content)"
   ]
  }
 ],
 "metadata": {
  "kernelspec": {
   "display_name": "mylangchain-app-SBe-Yh6W-py3.12",
   "language": "python",
   "name": "python3"
  },
  "language_info": {
   "codemirror_mode": {
    "name": "ipython",
    "version": 3
   },
   "file_extension": ".py",
   "mimetype": "text/x-python",
   "name": "python",
   "nbconvert_exporter": "python",
   "pygments_lexer": "ipython3",
   "version": "3.12.7"
  }
 },
 "nbformat": 4,
 "nbformat_minor": 2
}
