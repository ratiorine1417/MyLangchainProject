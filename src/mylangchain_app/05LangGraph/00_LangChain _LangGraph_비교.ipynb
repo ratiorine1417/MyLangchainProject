{
  "cells": [
    {
      "cell_type": "markdown",
      "metadata": {},
      "source": [
        "#### LangChain vs LangGraph (feat. LangGraph 개념 설명)\n",
        "* LangGraph의 개념과 주요 기능을 이해하고, 차이점을 비교합니다."
      ]
    },
    {
      "cell_type": "code",
      "execution_count": 1,
      "metadata": {},
      "outputs": [
        {
          "name": "stdout",
          "output_type": "stream",
          "text": [
            "sk\n",
            "vO\n"
          ]
        }
      ],
      "source": [
        "from dotenv import load_dotenv\n",
        "import os\n",
        "\n",
        "load_dotenv()\n",
        "\n",
        "OPENAI_API_KEY = os.getenv(\"OPENAI_API_KEY\")\n",
        "print(OPENAI_API_KEY[:2])\n",
        "\n",
        "UPSTAGE_API_KEY = os.getenv(\"UPSTAGE_API_KEY\")\n",
        "print(UPSTAGE_API_KEY[30:])"
      ]
    },
    {
      "cell_type": "code",
      "execution_count": 2,
      "metadata": {},
      "outputs": [
        {
          "name": "stderr",
          "output_type": "stream",
          "text": [
            "c:\\Users\\user\\AppData\\Local\\pypoetry\\Cache\\virtualenvs\\mylangchain-app-SBe-Yh6W-py3.12\\Lib\\site-packages\\tqdm\\auto.py:21: TqdmWarning: IProgress not found. Please update jupyter and ipywidgets. See https://ipywidgets.readthedocs.io/en/stable/user_install.html\n",
            "  from .autonotebook import tqdm as notebook_tqdm\n"
          ]
        },
        {
          "name": "stdout",
          "output_type": "stream",
          "text": [
            "client=<openai.resources.chat.completions.completions.Completions object at 0x0000028F6030BE00> async_client=<openai.resources.chat.completions.completions.AsyncCompletions object at 0x0000028F607A1D30> model_name='solar-pro' temperature=0.5 model_kwargs={} upstage_api_key=SecretStr('**********') upstage_api_base='https://api.upstage.ai/v1'\n"
          ]
        },
        {
          "data": {
            "text/plain": [
              "AIMessage(content='LangGraph는 **대규모 언어 모델(LLM)을 활용한 복잡한 멀티턴(multi-turn) 대화 및 상태 기반(stateful) 애플리케이션 구축을 위한 오픈소스 프레임워크**입니다. LangChain의 확장 툴킷으로 개발되었으며, 그래프 기반의 상태 관리와 LLM의 추론 능력을 결합해 대화형 시스템을 효율적으로 설계할 수 있게 해줍니다.\\n\\n### 주요 특징:\\n1. **그래프 기반 상태 관리**  \\n   - 대화 흐름을 **노드(Node)**와 **엣지(Edge)**로 표현해 시각적/논리적으로 설계 가능 (예: 상태 전이 다이어그램).\\n   - 각 노드는 LLM 호출, 외부 API, 조건 분기 등을 나타낼 수 있습니다.\\n\\n2. **LangChain과의 통합**  \\n   - LangChain의 `Chains`, `Memory`, `Tools` 등을 활용해 유연한 파이프라인 구축이 가능합니다.\\n   - 예: 사용자 입력을 받아 LLM이 처리한 후, 특정 조건에 따라 다른 노드로 분기.\\n\\n3. **확장성**  \\n   - 커스텀 노드/엣지 추가, 상태 저장(`Memory` 또는 외부 DB 연동), 복잡한 워크플로우 지원.\\n\\n4. **사용 사례**  \\n   - **챗봇**: 다단계 폼 채우기, 예약 시스템 등 상태 유지가 필요한 대화.  \\n   - **에이전트 시스템**: 도구 호출과 상태 추적을 결합한 복잡한 작업 자동화.  \\n   - **대화형 분석**: 사용자 질문에 따라 동적으로 정보를 탐색하는 시스템.\\n\\n### 예시 코드 (간단한 그래프):\\n```python\\nfrom langgraph.prebuilt import LangGraph\\nfrom langchain_openai import ChatOpenAI\\n\\n# LLM 및 노드 정의\\nllm = ChatOpenAI(model=\"gpt-4o\")\\n\\ngraph = LangGraph(\\n    state_updates={\\n        \"thoughts\": lambda x: {\"thoughts\": x[\"output\"]},\\n        \"answer\": lambda x: {\"answer\": x[\"output\"]},\\n    },\\n    edges=[\\n        {\"from\": \"start\", \"to\": \"thoughts\"},\\n        {\"from\": \"thoughts\", \"to\": \"answer\"},\\n    ],\\n)\\n\\n# 노드 실행 함수 등록\\n@graph.node\\ndef start(inputs):\\n    return {\"output\": \"사용자 입력을 처리하는 중...\"}\\n\\n@graph.node\\ndef thoughts(inputs):\\n    response = llm.call(\"생각을 정리하세요: \" + inputs[\"input\"])\\n    return {\"output\": response.content}\\n\\n@graph.node\\ndef answer(inputs):\\n    return {\"output\": \"최종 답변: \" + inputs[\"output\"]}\\n\\n# 그래프 실행\\napp = graph.compile()\\noutput = app(\"사용자 질문\")\\n```\\n\\n### LangChain vs. LangGraph:\\n- **LangChain**: 단일 또는 짧은 대화 흐름(`Chains`)에 최적화.  \\n- **LangGraph**: 장기적인 상태 관리와 복잡한 분기/루프 필요한 시나리오에 적합.\\n\\n공식 문서: [https://langchain.com/docs/langgraph](https://langchain.com/docs/langgraph)', additional_kwargs={'refusal': None}, response_metadata={'token_usage': {'completion_tokens': 570, 'prompt_tokens': 19, 'total_tokens': 589, 'completion_tokens_details': {'accepted_prediction_tokens': 0, 'audio_tokens': 0, 'reasoning_tokens': 0, 'rejected_prediction_tokens': 0}, 'prompt_tokens_details': {'audio_tokens': 0, 'cached_tokens': 0}}, 'model_name': 'solar-pro2-250909', 'system_fingerprint': None, 'id': 'ac3c8bf5-6ba0-4e73-9061-cc8761d684b4', 'service_tier': None, 'finish_reason': 'stop', 'logprobs': None}, id='run--2b3f20a4-8daf-479d-ac82-997d253a8c71-0', usage_metadata={'input_tokens': 19, 'output_tokens': 570, 'total_tokens': 589, 'input_token_details': {'audio': 0, 'cache_read': 0}, 'output_token_details': {'audio': 0, 'reasoning': 0}})"
            ]
          },
          "execution_count": 2,
          "metadata": {},
          "output_type": "execute_result"
        }
      ],
      "source": [
        "# from langchain_openai import ChatOpenAI\n",
        "\n",
        "# llm = ChatOpenAI(model='gpt-4o-mini') # 테스트의 경우에는 작은 모델을 사용합니다\n",
        "\n",
        "from langchain_upstage import ChatUpstage\n",
        "llm = ChatUpstage(\n",
        "        model=\"solar-pro\",\n",
        "        base_url=\"https://api.upstage.ai/v1\",\n",
        "        temperature=0.5\n",
        "    )\n",
        "print(llm)\n",
        "\n",
        "query = 'LangGraph는 무엇인가요?'\n",
        "llm.invoke(query)\n",
        "\n"
      ]
    },
    {
      "cell_type": "markdown",
      "metadata": {},
      "source": [
        "#### LangGraph의 기본개념\n",
        "* `state`는 LangGraph 에이전트의 state를 나타내는 데이터 구조입니다.\n",
        "* `state`는 `TypedDict`를 사용하여 정의되며, 이는 Python의 타입 힌팅을 통해 구조를 명확히 합니다.\n",
        "    * 간단하게 `messages`라는 필드만 있습니다.\n",
        "    * 필요에 따라 다양한 값들을 활용할 수 있습니다.\n",
        "* `state`는 에이전트의 동작을 결정하는 데 사용되며, 각 노드에서 state를 업데이트하거나 참조할 수 있습니다.\n",
        "* `state`는 LangGraph의 노드 간에 전달되며, 에이전트의 state 전이를 관리합니다."
      ]
    },
    {
      "cell_type": "code",
      "execution_count": 3,
      "metadata": {},
      "outputs": [],
      "source": [
        "from typing import Annotated # 타입 힌트를 사용하기 위해 \n",
        "from typing_extensions import TypedDict # 구조화된 딕셔너리 타입을 정의하기 위해 \n",
        "\n",
        "from langgraph.graph.message import add_messages \n",
        "from langchain_core.messages import AnyMessage # LangChain에서 사용하는 모든 종류의 메시지(예: HumanMessage, AIMessage)\n",
        "\n",
        "# AgentState는 에이전트의 현재 상태를 나타내는 딕셔너리 타입을 정의합니다.\n",
        "# TypedDict를 사용하면 딕셔너리가 어떤 키와 값 타입을 가져야 하는지 명확하게 지정할 수 있습니다.\n",
        "class AgentState(TypedDict):\n",
        "    # 'messages' 키는 에이전트의 대화 기록을 저장합니다.\n",
        "    # 이 목록에는 LangChain 메시지 객체(AnyMessage)가 들어갑니다.\n",
        "    # LangGraph가 이 상태를 처리할 때, 새로운 메시지가 추가되면\n",
        "    # 기존 메시지 목록의 끝에 자동으로 추가되도록(append) 설정합니다.\n",
        "    messages: list[Annotated[AnyMessage, add_messages]]"
      ]
    },
    {
      "cell_type": "markdown",
      "metadata": {},
      "source": [
        "- 위에 선언한 `AgentState`를 활용하여 `StateGraph`를 생성합니다."
      ]
    },
    {
      "cell_type": "code",
      "execution_count": 4,
      "metadata": {},
      "outputs": [],
      "source": [
        "from langgraph.graph import StateGraph\n",
        "\n",
        "graph_builder = StateGraph(AgentState)"
      ]
    },
    {
      "cell_type": "markdown",
      "metadata": {},
      "source": [
        "- `graph`에 추가할 `node`를 생성합니다\n",
        "-  `node`는 LangGraph에서 실행되는 개별적인 작업 단위를 의미합니다. \n",
        "    - 각 노드는 특정 기능을 수행하는 독립적인 컴포넌트로, 예를 들어 텍스트 생성, 데이터 처리, 또는 의사 결정과 같은 작업을 담당할 수 있습니다.\n",
        "    - `node`는 기본적으로 함수(function)로 정의되고, 뒤에서 다루지만 다른 에이전트(agent)를 활용할 수도 있습니다"
      ]
    },
    {
      "cell_type": "code",
      "execution_count": 5,
      "metadata": {},
      "outputs": [],
      "source": [
        "# Node 역할을 하는 함수의 인자에 반드시 state 객체를 사용함 - LLM을 호출하는 노드\n",
        "def generate(state: AgentState) -> AgentState:\n",
        "    \"\"\"\n",
        "    `generate` 노드는 사용자의 질문을 받아서 응답을 생성하는 노드입니다.\n",
        "    \"\"\"\n",
        "    messages = state['messages']\n",
        "    ai_message = llm.invoke(messages)\n",
        "    return {'messages': [ai_message]}"
      ]
    },
    {
      "cell_type": "markdown",
      "metadata": {},
      "source": [
        "- `node`를 생성한 후에 `edge`로 연결합니다\n",
        "- `edge`는 노드들 사이의 연결을 나타내며, 데이터와 제어 흐름의 경로를 정의합니다. \n",
        "    - 엣지를 통해 한 노드의 출력이 다음 노드의 입력으로 전달되어, 전체적인 워크플로우가 형성됩니다.\n",
        "    - `node`와 `edge`의 조합은 방향성 그래프(Directed Graph)를 형성하며, 이를 통해 복잡한 AI 에이전트의 행동 흐름을 구조화할 수 있습니다"
      ]
    },
    {
      "cell_type": "code",
      "execution_count": 6,
      "metadata": {},
      "outputs": [
        {
          "data": {
            "text/plain": [
              "<langgraph.graph.state.StateGraph at 0x28f609b66c0>"
            ]
          },
          "execution_count": 6,
          "metadata": {},
          "output_type": "execute_result"
        }
      ],
      "source": [
        "# LLM을 호출하는 generate 함수를 Node로 추가함\n",
        "graph_builder.add_node('generate', generate)"
      ]
    },
    {
      "cell_type": "markdown",
      "metadata": {},
      "source": [
        "- 모든 그래프는 `START(시작)`와 `END(종료)`가 있습니다\n",
        "    - `END`를 explicit하게 선언하지 않는 경우도 종종 있지만, 가독성을 위해 작성해주는 것을 권장합니다"
      ]
    },
    {
      "cell_type": "code",
      "execution_count": 7,
      "metadata": {},
      "outputs": [
        {
          "data": {
            "text/plain": [
              "<langgraph.graph.state.StateGraph at 0x28f609b66c0>"
            ]
          },
          "execution_count": 7,
          "metadata": {},
          "output_type": "execute_result"
        }
      ],
      "source": [
        "from langgraph.graph import START, END\n",
        "\n",
        "graph_builder.add_edge(START, 'generate')\n",
        "graph_builder.add_edge('generate', END)"
      ]
    },
    {
      "cell_type": "markdown",
      "metadata": {},
      "source": [
        "- `node`를 생성하고 `edge`로 연결한 후에 `compile` 메서드를 호출하여 `Graph`를 생성합니다"
      ]
    },
    {
      "cell_type": "code",
      "execution_count": 8,
      "metadata": {},
      "outputs": [
        {
          "name": "stdout",
          "output_type": "stream",
          "text": [
            "<class 'langgraph.graph.state.CompiledStateGraph'>\n"
          ]
        }
      ],
      "source": [
        "graph = graph_builder.compile()\n",
        "print(type(graph))"
      ]
    },
    {
      "cell_type": "markdown",
      "metadata": {},
      "source": [
        "- `compile` 후에는 그래프를 시각화하여 확인할 수 있습니다\n",
        "- 의도한대로 그래프가 생성됐는지 확인하는 습관을 기르는 것이 좋습니다\n",
        "    - `git`에서 코드 작업물을 commit하기 전에 `git diff`를 통해 변경사항을 확인하는 것과 같습니다"
      ]
    },
    {
      "cell_type": "code",
      "execution_count": null,
      "metadata": {},
      "outputs": [],
      "source": [
        "#from IPython.display import display, Image\n",
        "\n",
        "#display(Image(graph.get_graph().draw_mermaid_png(max_retries=5, retry_delay=2.0)))"
      ]
    },
    {
      "cell_type": "code",
      "execution_count": 9,
      "metadata": {},
      "outputs": [
        {
          "name": "stdout",
          "output_type": "stream",
          "text": [
            "Mermaid Code:\n",
            "---\n",
            "config:\n",
            "  flowchart:\n",
            "    curve: linear\n",
            "---\n",
            "graph TD;\n",
            "\t__start__([<p>__start__</p>]):::first\n",
            "\tgenerate(generate)\n",
            "\t__end__([<p>__end__</p>]):::last\n",
            "\t__start__ --> generate;\n",
            "\tgenerate --> __end__;\n",
            "\tclassDef default fill:#f2f0ff,line-height:1.2\n",
            "\tclassDef first fill-opacity:0\n",
            "\tclassDef last fill:#bfb6fc\n",
            "\n"
          ]
        }
      ],
      "source": [
        "# 대체 방법\n",
        "mermaid_code = graph.get_graph().draw_mermaid()\n",
        "print(\"Mermaid Code:\")\n",
        "print(mermaid_code)"
      ]
    },
    {
      "cell_type": "markdown",
      "metadata": {},
      "source": [
        "* https://mermaid.live/ 에서  mermain_code 로 직접 확인한다.\n",
        "\n",
        "* [Graph 이미지](https://mermaid.live/edit#pako:eNpVkU1vgzAMhv8K8i6tBIzwkbZpxWW97rbTxlSl4EAkCCgEaV3V_740bdF6ih2_zxvbOUPZVwgMas2HxvvYbwtVmMNhNFzbY_G1G_I5270O-feSMSakHs1VWKNCzQ0uHsHyhqOqZtjFM9ryGzmbekGQew98-9_UVe68K5QWHvcovAoFn1rjCdm27EXEIhLCb6XCoEFZN4aRMH4CXMNOHvQDL6U5sehJcG3rbncURypK8O1KZAXM6Al96FB3_JrCuVCeV4BpsMMCmA3v3RRQqIvFBq4--757kLqf6gaY4O1os2mo7GR7ye2-u_lW2xlRv_WTMsBI5DyAneEHWJymIVnHNEvJOiM0XWU-nKwozcIoIfFmlWVJQimhFx9-3bNRmMYJzTaE0jhKqRX5gJU0vX6_fbX78csfTiqnSA)\n"
      ]
    },
    {
      "cell_type": "code",
      "execution_count": 11,
      "metadata": {},
      "outputs": [
        {
          "name": "stdout",
          "output_type": "stream",
          "text": [
            "<class 'dict'>\n",
            "<class 'langchain_core.messages.ai.AIMessage'>\n",
            "[AIMessage(content='**LangGraph**와 **LangChain**은 모두 LLM(대형 언어 모델)을 활용한 애플리케이션 개발을 위한 프레임워크이지만, 목적과 기능에서 차이가 있습니다. 아래에 각 도구의 핵심 개념과 차이점을 정리했습니다.\\n\\n---\\n\\n### **1. LangGraph란?**\\n- **그래프 기반 워크플로우 관리 도구**로, 복잡한 LLM 애플리케이션의 상태(state)와 흐름을 시각화하고 제어할 수 있게 설계되었습니다.\\n- **특징**:\\n  - **상태 관리**: 사용자 세션, 메모리, 대화 기록 등을 그래프 노드로 표현해 추적 가능.\\n  - **비선형 워크플로우**: 조건 분기, 병렬 처리, 반복 루프 등 복잡한 로직을 그래프로 구현.\\n  - **확장성**: LangChain 컴포넌트(예: 체인, 도구)와 연동 가능.\\n- **사용 사례**: 대화형 에이전트, 멀티스텝 태스크 자동화, 상태 의존적 애플리케이션(예: 고객 지원 봇).\\n\\n> 📌 **예시**:  \\n> 사용자 질문에 따라 다른 LLM 체인을 호출하거나, 이전 대화 기록을 기반으로 상태를 업데이트하는 시스템.\\n\\n---\\n\\n### **2. LangChain이란?**\\n- **LLM 애플리케이션 구축을 위한 범용 프레임워크**로, 모듈식 컴포넌트(체인, 도구, 메모리 등)를 조합해 애플리케이션을 빠르게 개발할 수 있게 지원합니다.\\n- **특징**:\\n  - **모듈성**: 체인(Chain), 에이전트(Agent), 메모리(Memory), 검색(Retriever) 등 재사용 가능한 구성 요소 제공.\\n  - **유연성**: 단일 LLM 호출부터 복잡한 파이프라인까지 지원.\\n  - **통합**: HuggingFace, OpenAI, Anthropic 등 다양한 LLM 및 데이터 소스 연동.\\n- **사용 사례**: Q&A 시스템, 문서 요약, 코드 생성 등 일반적인 LLM 태스크.\\n\\n> 📌 **예시**:  \\n> \"문서 검색 → LLM 요약 → 사용자에게 결과 반환\"과 같은 선형 파이프라인.\\n\\n---\\n\\n### **3. LangGraph vs. LangChain: 주요 차이점**\\n\\n| **기준**       | **LangGraph**                          | **LangChain**                          |\\n|----------------|----------------------------------------|----------------------------------------|\\n| **목적**       | 복잡한 상태/흐름 관리                  | 모듈식 LLM 애플리케이션 구축           |\\n| **구조**       | 방향성 비순환 그래프(DAG) 기반         | 체인(Chain) 및 파이프라인 기반         |\\n| **강점**       | 조건 분기, 병렬 처리, 상태 추적        | 빠른 프로토타이핑, 재사용성            |\\n| **사용 시나리오** | 대화형 에이전트, 상태 의존적 워크플로우 | 단일/다중 스텝 태스크, 일반적인 LLM 앱 |\\n| **통합**       | LangChain 컴포넌트 사용 가능           | LangGraph를 하위 모듈로 활용 가능      |\\n\\n---\\n\\n### **4. 함께 사용하는 경우**\\n- **LangChain**으로 기본 LLM 체인을 구축하고, **LangGraph**로 복잡한 워크플로우를 제어하는 하이브리드 접근이 일반적입니다.  \\n  예:  \\n  - LangChain의 `RetrievalQA` 체인을 LangGraph의 노드로 연결해 조건부 실행.  \\n  - LangGraph에서 `Memory` 노드를 사용해 대화 상태 관리.\\n\\n---\\n\\n### **5. 요약**\\n- **LangChain**은 \"무엇을 할지\"에 집중하고, **LangGraph**는 \"어떻게 흐름을 제어할지\"에 특화되었습니다.  \\n- 복잡한 애플리케이션에서는 두 도구를 함께 사용해 **모듈성**과 **유연한 제어**를 동시에 달성할 수 있습니다.', additional_kwargs={'refusal': None}, response_metadata={'token_usage': {'completion_tokens': 659, 'prompt_tokens': 25, 'total_tokens': 684, 'completion_tokens_details': {'accepted_prediction_tokens': 0, 'audio_tokens': 0, 'reasoning_tokens': 0, 'rejected_prediction_tokens': 0}, 'prompt_tokens_details': {'audio_tokens': 0, 'cached_tokens': 0}}, 'model_name': 'solar-pro2-250909', 'system_fingerprint': None, 'id': '55ee6269-c6d6-4dde-9f39-132aebb80977', 'service_tier': None, 'finish_reason': 'stop', 'logprobs': None}, id='run--68a853c3-6d3f-4839-acc5-8f78e1f5d238-0', usage_metadata={'input_tokens': 25, 'output_tokens': 659, 'total_tokens': 684, 'input_token_details': {'audio': 0, 'cache_read': 0}, 'output_token_details': {'audio': 0, 'reasoning': 0}})]\n"
          ]
        }
      ],
      "source": [
        "from langchain_core.messages import HumanMessage\n",
        "\n",
        "query = \"LangGraph는 무엇인가요? LangChain과의 차이점은 무엇인가요?\"\n",
        "initial_state = {'messages': [HumanMessage(query)]}\n",
        "result = graph.invoke(initial_state)\n",
        "\n",
        "print(type(result))\n",
        "print(type(result['messages'][0]))\n",
        "print(result['messages'])"
      ]
    },
    {
      "cell_type": "markdown",
      "metadata": {},
      "source": [
        "#### 2개의 AI 에이전트 협력하기\n",
        "* 첫번째 AI 에이전트\\n\n",
        "    * 사용자의 질문을 분석하고 핵심 키워드와 배경 정보를 추가하는 역할\n",
        "* 두번째 AI 에이전트\\n\n",
        "    * 첫번째 에이전트가 제공한 정보를 기반으로 좀 더 자세한 답변을 생성하는 역할"
      ]
    },
    {
      "cell_type": "code",
      "execution_count": 12,
      "metadata": {},
      "outputs": [
        {
          "name": "stdout",
          "output_type": "stream",
          "text": [
            "solar-pro\n"
          ]
        }
      ],
      "source": [
        "print(llm.model_name)"
      ]
    },
    {
      "cell_type": "code",
      "execution_count": 13,
      "metadata": {},
      "outputs": [],
      "source": [
        "from langgraph.graph import StateGraph\n",
        "from pprint import pprint\n",
        "\n",
        "#첫번째 AI 에이전트\n",
        "def agent_1(state):\n",
        "    \"\"\"사용자의 질문을 분석하고 핵심 키워드아 배경 정보를 추가하는 역할\"\"\"\n",
        "    query = state['query']\n",
        "    \n",
        "    keywords = llm.invoke(f'질문: {query}\\n 이 질문에서 핵심 키워드를 3~5개 추출해 주세요.')\n",
        "\n",
        "     # 질문과 관련된 배경 정보 제공\n",
        "    background_info = llm.invoke(f\"질문: {query}\\n 이 질문을 이해하는 데 도움이 될 만한 추가 정보를 제공해 주세요.\")\n",
        "\n",
        "    print(f\"\\n[Agent 1] 원본 질문: {query}\")\n",
        "    print(f\"[Agent 1] 핵심 키워드: {keywords}\")\n",
        "    print(f\"[Agent 1] 배경 정보: {background_info}\\n\")\n",
        "\n",
        "    return {\"refined_query\": query, \"keywords\": keywords, \"background_info\": background_info}"
      ]
    },
    {
      "cell_type": "code",
      "execution_count": 14,
      "metadata": {},
      "outputs": [],
      "source": [
        "# 두번째 AI 에이전트\n",
        "def agent_2(state):\n",
        "    \"\"\"첫번째 에이전트가 제공한 정보를 기반으로 좀 더 자세한 답변을 생성하는 역할\"\"\"\n",
        "    refined_query = state['refined_query']\n",
        "    keywords = state['keywords']\n",
        "    background_info = state['background_info']\n",
        "\n",
        "    # Agent 1이 제공한 정보를 활용하여 최종 답변 생성\n",
        "    final_response = llm.invoke(\n",
        "        f\"질문: {refined_query}\\n\"\n",
        "        f\"핵심 키워드: {keywords}\\n\"\n",
        "        f\"배경 정보: {background_info}\\n\"\n",
        "        f\"위 정보를 바탕으로 질문에 대해 깊이 있는 답변을 작성해 주세요.\"\n",
        "    )\n",
        "\n",
        "    print(f\"[Agent 2] 최종 답변 생성 완료\\n\")\n",
        "    \n",
        "    return {\"final_answer\": final_response}"
      ]
    },
    {
      "cell_type": "code",
      "execution_count": 15,
      "metadata": {},
      "outputs": [
        {
          "name": "stdout",
          "output_type": "stream",
          "text": [
            "<class 'langgraph.graph.state.StateGraph'>\n",
            "{<class 'dict'>: {'__root__': <langgraph.channels.last_value.LastValue object at 0x0000028F60B50640>}}\n"
          ]
        }
      ],
      "source": [
        "# WorkFlow 역할을 하는 StateGraph 객체를 생성하기\n",
        "workflow = StateGraph(dict)\n",
        "\n",
        "print(type(workflow))\n",
        "print(workflow.schemas)"
      ]
    },
    {
      "cell_type": "code",
      "execution_count": 16,
      "metadata": {},
      "outputs": [
        {
          "data": {
            "text/plain": [
              "{'agent_1': StateNodeSpec(runnable=agent_1(tags=None, recurse=True, explode_args=False, func_accepts={}), metadata=None, input_schema=<class 'dict'>, retry_policy=None, cache_policy=None, ends=(), defer=False),\n",
              " 'agent_2': StateNodeSpec(runnable=agent_2(tags=None, recurse=True, explode_args=False, func_accepts={}), metadata=None, input_schema=<class 'dict'>, retry_policy=None, cache_policy=None, ends=(), defer=False)}"
            ]
          },
          "execution_count": 16,
          "metadata": {},
          "output_type": "execute_result"
        }
      ],
      "source": [
        "# WorkFlow에 Node 추가하기\n",
        "workflow.add_node(\"agent_1\", agent_1)\n",
        "workflow.add_node(\"agent_2\", agent_2)\n",
        "\n",
        "workflow.nodes"
      ]
    },
    {
      "cell_type": "code",
      "execution_count": 17,
      "metadata": {},
      "outputs": [
        {
          "name": "stdout",
          "output_type": "stream",
          "text": [
            "{('agent_1', 'agent_2'), ('__start__', 'agent_1')}\n"
          ]
        }
      ],
      "source": [
        "# WorkFlow에 Edge 추가하기\n",
        "# agent_1이 먼저 실행됨\n",
        "workflow.set_entry_point(\"agent_1\")\n",
        "# agent_1 -> agent_2\n",
        "workflow.add_edge(\"agent_1\",\"agent_2\")\n",
        "\n",
        "print(workflow.edges)"
      ]
    },
    {
      "cell_type": "code",
      "execution_count": 18,
      "metadata": {},
      "outputs": [
        {
          "name": "stdout",
          "output_type": "stream",
          "text": [
            "<class 'langgraph.graph.state.CompiledStateGraph'>\n"
          ]
        },
        {
          "data": {
            "image/png": "[encoded data removed]",
            "text/plain": [
              "<langgraph.graph.state.CompiledStateGraph object at 0x0000028F607D2420>"
            ]
          },
          "execution_count": 18,
          "metadata": {},
          "output_type": "execute_result"
        }
      ],
      "source": [
        "graph = workflow.compile()\n",
        "\n",
        "print(type(graph))\n",
        "graph"
      ]
    },
    {
      "cell_type": "code",
      "execution_count": 19,
      "metadata": {},
      "outputs": [
        {
          "name": "stdout",
          "output_type": "stream",
          "text": [
            "---\n",
            "config:\n",
            "  flowchart:\n",
            "    curve: linear\n",
            "---\n",
            "graph TD;\n",
            "\t__start__([<p>__start__</p>]):::first\n",
            "\tagent_1(agent_1)\n",
            "\tagent_2(agent_2)\n",
            "\t__end__([<p>__end__</p>]):::last\n",
            "\t__start__ --> agent_1;\n",
            "\tagent_1 --> agent_2;\n",
            "\tagent_2 --> __end__;\n",
            "\tclassDef default fill:#f2f0ff,line-height:1.2\n",
            "\tclassDef first fill-opacity:0\n",
            "\tclassDef last fill:#bfb6fc\n",
            "\n"
          ]
        }
      ],
      "source": [
        "mermaid_code = graph.get_graph().draw_mermaid()\n",
        "print(mermaid_code)"
      ]
    },
    {
      "cell_type": "code",
      "execution_count": 20,
      "metadata": {},
      "outputs": [
        {
          "name": "stdout",
          "output_type": "stream",
          "text": [
            "\n",
            "[Agent 1] 원본 질문: LangGraph는 무엇이며, LangChain과 어떤 차이점이 있나요? 그리고 LangGraph를 사용해야 하는 이유는 무엇인가요?\n",
            "[Agent 1] 핵심 키워드: content='핵심 키워드:  \\n1. **LangGraph**  \\n2. **LangChain**  \\n3. **차이점**  \\n4. **사용 이유**  \\n\\n(추가 가능한 키워드: **워크플로우 관리**, **상태 기반 추론** - LangGraph의 핵심 기능을 강조할 경우)' additional_kwargs={'refusal': None} response_metadata={'token_usage': {'completion_tokens': 58, 'prompt_tokens': 49, 'total_tokens': 107, 'completion_tokens_details': {'accepted_prediction_tokens': 0, 'audio_tokens': 0, 'reasoning_tokens': 0, 'rejected_prediction_tokens': 0}, 'prompt_tokens_details': {'audio_tokens': 0, 'cached_tokens': 0}}, 'model_name': 'solar-pro2-250909', 'system_fingerprint': None, 'id': '7456be93-63b6-43e0-b702-8203e0404d4c', 'service_tier': None, 'finish_reason': 'stop', 'logprobs': None} id='run--f36d5077-171c-412c-a3db-657ffa26964a-0' usage_metadata={'input_tokens': 49, 'output_tokens': 58, 'total_tokens': 107, 'input_token_details': {'audio': 0, 'cache_read': 0}, 'output_token_details': {'audio': 0, 'reasoning': 0}}\n",
            "[Agent 1] 배경 정보: content='### LangGraph와 LangChain의 비교 및 활용 이유\\n\\n#### 1. **LangGraph란?**\\n   - **정의**: LangGraph는 **상태(State) 기반의 복잡한 LLM(Large Language Model) 애플리케이션**을 구축하기 위한 프레임워크입니다. LangChain의 확장 도구로, 특히 **대화형 에이전트, 워크플로우, 상태 관리가 필요한 시스템**에 최적화되어 있습니다.\\n   - **주요 특징**:\\n     - **그래프 기반 워크플로우**: 노드(상태)와 에지(전환)로 구성된 유한 상태 머신(FSM) 또는 조건부 분기 로직을 시각화/구현할 수 있습니다.\\n     - **상태 지속성**: 사용자 세션, 메모리, 외부 데이터베이스와의 연동을 통해 장기적인 상태를 관리합니다.\\n     - **확장성**: LangChain의 컴포넌트(체인, 도구, 메모리 등)와 호환되며, 복잡한 비즈니스 로직에 적용 가능합니다.\\n\\n#### 2. **LangChain vs. LangGraph 차이점**\\n   | **기준**       | **LangChain**                          | **LangGraph**                          |\\n   |----------------|----------------------------------------|----------------------------------------|\\n   | **목적**       | LLM 기반 애플리케이션의 **모듈 조합**  | **상태 관리**와 **워크플로우 제어**     |\\n   | **구조**       | 선형 체인 또는 간단한 분기            | 그래프 기반 상태 머신                  |\\n   | **사용 사례**  | 단일 질의 응답, RAG, 간단한 체인       | 대화형 에이전트, 다단계 프로세스(예: 의사 결정 트리) |\\n   | **상태 관리**  | 기본 메모리 지원 (예: ConversationBufferMemory) | 명시적 상태 저장 및 전환 로직          |\\n   | **복잡성**     | 비교적 단순한 파이프라인              | 조건부 분기, 루프, 병렬 처리 가능      |\\n\\n   - **예시**:  \\n     - LangChain으로 \"문서 검색 → 요약 생성\" 체인을 만들 수 있다면,  \\n     LangGraph로 \"사용자 질문에 따라 다른 도구 호출 → 상태 업데이트 → 다음 단계 결정\"과 같은 동적 흐름을 구현할 수 있습니다.\\n\\n#### 3. **LangGraph를 사용해야 하는 이유**\\n   - **복잡한 워크플로우 관리**:  \\n     여러 단계를 거치거나 조건에 따라 분기가 필요한 애플리케이션(예: 고객 지원 봇, 설문 조사, 게임형 인터랙션)에 적합합니다.\\n   - **상태 지속성**:  \\n     대화 기록, 사용자 프로필, 외부 데이터베이스(예: PostgreSQL, Vector DB)와 연동해 장기적인 컨텍스트를 유지할 수 있습니다.\\n   - **확장성**:  \\n     LangChain의 모든 컴포넌트(도구, 체인, 메모리)를 LangGraph 노드에 통합할 수 있어 기존 코드 재사용이 용이합니다.\\n   - **시각적 설계**:  \\n     Mermaid.js 등으로 워크플로우를 시각화해 팀 협업이나 디버깅에 유리합니다.\\n\\n#### 4. **추가 정보: LangGraph의 주요 개념**\\n   - **State**: 현재 노드, 변수, 메모리 등을 포함하는 데이터 구조. Python 딕셔너리로 표현됩니다.\\n   - **Edge**: 상태 전환을 정의하는 조건식 (예: `lambda state: state[\"next_step\"] == \"confirm\"`).\\n   - **Tools & Agents**: LangChain의 도구를 그래프 노드에 연결해 동적 행동을 구현할 수 있습니다.\\n   - **실행 모드**:  \\n     - `sequential`: 단계별 실행.  \\n     - `parallel`: 병렬 처리 (예: 여러 도구 동시 호출).\\n\\n#### 5. **사용 사례 예시**\\n   - **고객 지원 봇**:  \\n     1. 사용자 질문 분류 → 2. FAQ 검색 또는 인간 에이전트 전환 → 3. 응답 후 만족도 평가.\\n   - **의료 진단 시스템**:  \\n     증상 입력 → 위험도에 따라 검사 도구 호출 → 결과 종합 및 추천.\\n   - **교육용 튜터**:  \\n     학습자 수준에 따라 문제 난이도 조정 및 피드백 제공.\\n\\n#### 6. **시작하기**\\n   - **공식 문서**: [LangGraph GitHub](https://github.com/langchain-ai/langgraph)  \\n   - **예제 코드**:\\n     ```python\\n     from langgraph import State, BaseGraph\\n     from langchain_core.tools import tool\\n\\n     @tool\\n     def lookup_tool(query: str) -> str:\\n         return \"검색 결과: \" + query\\n\\n     class MyGraph(BaseGraph):\\n         def __init__(self):\\n             super().__init__(\"start\", {\"start\": [\"check_query\"], \"check_query\": [\"end\"]})\\n\\n         @state_transition(\"check_query\")\\n         def check_query(self, state: State):\\n             if \"urgent\" in state[\"input\"]:\\n                 return {\"next\": {\"self\": {\"tool\": \"lookup_tool\"}}}\\n             return {\"next\": \"end\"}\\n\\n     graph = MyGraph()\\n     result = graph.run(\"urgent: 시스템 오류\")\\n     ```\\n\\nLangGraph는 **상태 관리와 복잡한 로직이 필요한 LLM 애플리케이션**을 구축할 때 LangChain보다 더 강력한 유연성을 제공합니다. 간단한 체인으로 충분한 경우 LangChain을, 다단계 워크플로우가 필요하면 LangGraph를 선택하는 것이 좋습니다.' additional_kwargs={'refusal': None} response_metadata={'token_usage': {'completion_tokens': 992, 'prompt_tokens': 49, 'total_tokens': 1041, 'completion_tokens_details': {'accepted_prediction_tokens': 0, 'audio_tokens': 0, 'reasoning_tokens': 0, 'rejected_prediction_tokens': 0}, 'prompt_tokens_details': {'audio_tokens': 0, 'cached_tokens': 0}}, 'model_name': 'solar-pro2-250909', 'system_fingerprint': None, 'id': 'bb803beb-3428-4ce7-b8a9-1ed53a19bf0a', 'service_tier': None, 'finish_reason': 'stop', 'logprobs': None} id='run--08f09380-06ad-4514-8568-fdf0658f5d3d-0' usage_metadata={'input_tokens': 49, 'output_tokens': 992, 'total_tokens': 1041, 'input_token_details': {'audio': 0, 'cache_read': 0}, 'output_token_details': {'audio': 0, 'reasoning': 0}}\n",
            "\n",
            "[Agent 2] 최종 답변 생성 완료\n",
            "\n",
            "{'final_answer': AIMessage(content='### LangGraph와 LangChain의 비교 및 LangGraph의 활용 이유\\n\\n#### 1. **LangGraph란?**\\nLangGraph는 **상태(State) 기반의 복잡한 LLM(Large Language Model) 애플리케이션**을 구축하기 위한 프레임워크로, LangChain의 확장 도구입니다. 특히 **대화형 에이전트, 워크플로우 관리, 상태 기반 추론**이 필요한 시스템에 최적화되어 있습니다.  \\n- **주요 특징**:  \\n  - **그래프 기반 워크플로우**: 노드(상태)와 에지(전환)로 구성된 유한 상태 머신(FSM)을 구현해 조건부 분기, 루프, 병렬 처리 등을 지원합니다.  \\n  - **상태 지속성**: 사용자 세션, 메모리, 외부 데이터베이스(PostgreSQL, 벡터 DB 등)와 연동해 장기적인 컨텍스트를 유지합니다.  \\n  - **확장성**: LangChain의 체인, 도구, 메모리 컴포넌트와 호환되어 기존 코드 재사용이 용이합니다.  \\n\\n---\\n\\n#### 2. **LangChain vs. LangGraph: 핵심 차이점**\\n| **기준**         | **LangChain**                          | **LangGraph**                          |\\n|------------------|----------------------------------------|----------------------------------------|\\n| **목적**         | LLM 기반 애플리케이션의 **모듈 조합**  | **상태 관리**와 **동적 워크플로우 제어** |\\n| **구조**         | 선형 체인 또는 간단한 분기            | 그래프 기반 상태 머신                  |\\n| **사용 사례**    | 단일 질의 응답, RAG, 간단한 체인       | 대화형 에이전트, 다단계 프로세스       |\\n| **상태 관리**    | 기본 메모리 지원 (예: 대화 기록)       | 명시적 상태 저장 및 전환 로직          |\\n| **복잡성**       | 단순한 파이프라인                      | 조건부 분기, 루프, 병렬 처리 가능      |\\n\\n- **예시**:  \\n  - LangChain: \"문서 검색 → 요약 생성\"과 같은 선형 파이프라인.  \\n  - LangGraph: \"사용자 질문 분류 → FAQ 검색 또는 인간 에이전트 전환 → 응답 후 만족도 평가\"와 같은 동적 흐름.  \\n\\n---\\n\\n#### 3. **LangGraph를 사용해야 하는 이유**\\n**(1) 복잡한 워크플로우 관리**  \\n- **조건부 분기**: 사용자 입력이나 시스템 상태에 따라 다른 경로로 전환할 수 있습니다.  \\n  ```python\\n  # 예시: \"urgent\" 키워드 감지 시 도구 호출\\n  if \"urgent\" in state[\"input\"]:\\n      return {\"next\": {\"self\": {\"tool\": \"lookup_tool\"}}}\\n  ```\\n- **병렬 처리**: 여러 도구를 동시에 호출해 효율성을 높일 수 있습니다.  \\n  (예: 동시에 문서 검색과 감정 분석 수행)\\n\\n**(2) 상태 지속성**  \\n- **장기 컨텍스트 유지**: 대화 기록, 사용자 프로필, 외부 데이터베이스와 연동해 상태를 지속적으로 관리합니다.  \\n  (예: 의료 진단 시스템에서 환자 이력 추적)\\n\\n**(3) 확장성 및 재사용성**  \\n- LangChain의 모든 컴포넌트(도구, 체인, 메모리)를 LangGraph 노드에 통합할 수 있어 기존 인프라를 활용할 수 있습니다.  \\n  (예: LangChain의 `ConversationBufferMemory`를 LangGraph 상태에 연결)\\n\\n**(4) 시각적 설계 및 디버깅**  \\n- Mermaid.js 등으로 워크플로우를 시각화해 팀 협업이나 복잡한 로직 디버깅에 유리합니다.  \\n  ```mermaid\\n  graph TD\\n    A[시작] --> B{질문 분류}\\n    B -->|FAQ| C[검색 도구 호출]\\n    B -->|복잡한 질문| D[인간 에이전트 전환]\\n  ```\\n\\n**(5) 실제 적용 사례**  \\n- **고객 지원 봇**: 질문 유형 분류 → FAQ 검색 또는 인간 전환 → 응답 후 만족도 평가.  \\n- **교육용 튜터**: 학습자 수준에 따라 문제 난이도 조정 및 피드백 제공.  \\n- **의료 진단 시스템**: 증상 입력 → 위험도 평가 → 검사 도구 호출 → 결과 종합.  \\n\\n---\\n\\n#### 4. **LangGraph의 주요 개념**\\n- **State**: 현재 노드, 변수, 메모리 등을 포함하는 Python 딕셔너리.  \\n- **Edge**: 상태 전환을 정의하는 조건식 (예: `lambda state: state[\"next_step\"] == \"confirm\"`).  \\n- **실행 모드**:  \\n  - `sequential`: 단계별 실행.  \\n  - `parallel`: 병렬 처리 (예: 여러 도구 동시 호출).  \\n\\n---\\n\\n#### 5. **언제 LangGraph를 선택할까?**\\n- **LangChain으로 충분한 경우**:  \\n  - 단순한 질의 응답, RAG(Retrieval-Augmented Generation), 선형 체인.  \\n- **LangGraph가 필요한 경우**:  \\n  - 다단계 프로세스, 상태 기반 추론, 조건부 분기, 장기 컨텍스트 관리가 필요한 애플리케이션.  \\n\\n> 💡 **결론**: LangGraph는 LangChain의 한계를 넘어 **복잡한 워크플로우와 상태 관리**가 필요한 LLM 애플리케이션에 적합한 도구입니다. 대화형 에이전트, 게임형 인터랙션, 의료/교육 시스템 등 고급 사용 사례에서 빛을 발합니다. 공식 문서와 예제 코드를 참고해 시작해 보세요!  \\n> [LangGraph GitHub](https://github.com/langchain-ai/langgraph)', additional_kwargs={'refusal': None}, response_metadata={'token_usage': {'completion_tokens': 1008, 'prompt_tokens': 1792, 'total_tokens': 2800, 'completion_tokens_details': {'accepted_prediction_tokens': 0, 'audio_tokens': 0, 'reasoning_tokens': 0, 'rejected_prediction_tokens': 0}, 'prompt_tokens_details': {'audio_tokens': 0, 'cached_tokens': 0}}, 'model_name': 'solar-pro2-250909', 'system_fingerprint': None, 'id': '94688cf8-6927-4b4d-8370-94678df8b90e', 'service_tier': None, 'finish_reason': 'stop', 'logprobs': None}, id='run--a2da3d0e-b285-4b0a-bc7e-aa0ebc1a6307-0', usage_metadata={'input_tokens': 1792, 'output_tokens': 1008, 'total_tokens': 2800, 'input_token_details': {'audio': 0, 'cache_read': 0}, 'output_token_details': {'audio': 0, 'reasoning': 0}})}\n"
          ]
        }
      ],
      "source": [
        "# Graph 호출하기\n",
        "query = \"LangGraph는 무엇이며, LangChain과 어떤 차이점이 있나요? 그리고 LangGraph를 사용해야 하는 이유는 무엇인가요?\"\n",
        "\n",
        "state = {\"query\": query}\n",
        "result = graph.invoke(state)\n",
        "print(result)"
      ]
    },
    {
      "cell_type": "code",
      "execution_count": 21,
      "metadata": {},
      "outputs": [
        {
          "name": "stdout",
          "output_type": "stream",
          "text": [
            "{'final_answer': AIMessage(content='### LangGraph와 LangChain의 비교 및 LangGraph의 활용 이유\\n\\n#### 1. **LangGraph란?**\\nLangGraph는 **상태(State) 기반의 복잡한 LLM(Large Language Model) 애플리케이션**을 구축하기 위한 프레임워크로, LangChain의 확장 도구입니다. 특히 **대화형 에이전트, 워크플로우 관리, 상태 기반 추론**이 필요한 시스템에 최적화되어 있습니다.  \\n- **주요 특징**:  \\n  - **그래프 기반 워크플로우**: 노드(상태)와 에지(전환)로 구성된 유한 상태 머신(FSM)을 구현해 조건부 분기, 루프, 병렬 처리 등을 지원합니다.  \\n  - **상태 지속성**: 사용자 세션, 메모리, 외부 데이터베이스(PostgreSQL, 벡터 DB 등)와 연동해 장기적인 컨텍스트를 유지합니다.  \\n  - **확장성**: LangChain의 체인, 도구, 메모리 컴포넌트와 호환되어 기존 코드 재사용이 용이합니다.  \\n\\n---\\n\\n#### 2. **LangChain vs. LangGraph: 핵심 차이점**\\n| **기준**         | **LangChain**                          | **LangGraph**                          |\\n|------------------|----------------------------------------|----------------------------------------|\\n| **목적**         | LLM 기반 애플리케이션의 **모듈 조합**  | **상태 관리**와 **동적 워크플로우 제어** |\\n| **구조**         | 선형 체인 또는 간단한 분기            | 그래프 기반 상태 머신                  |\\n| **사용 사례**    | 단일 질의 응답, RAG, 간단한 체인       | 대화형 에이전트, 다단계 프로세스       |\\n| **상태 관리**    | 기본 메모리 지원 (예: 대화 기록)       | 명시적 상태 저장 및 전환 로직          |\\n| **복잡성**       | 단순한 파이프라인                      | 조건부 분기, 루프, 병렬 처리 가능      |\\n\\n- **예시**:  \\n  - LangChain: \"문서 검색 → 요약 생성\"과 같은 선형 파이프라인.  \\n  - LangGraph: \"사용자 질문 분류 → FAQ 검색 또는 인간 에이전트 전환 → 응답 후 만족도 평가\"와 같은 동적 흐름.  \\n\\n---\\n\\n#### 3. **LangGraph를 사용해야 하는 이유**\\n**(1) 복잡한 워크플로우 관리**  \\n- **조건부 분기**: 사용자 입력이나 시스템 상태에 따라 다른 경로로 전환할 수 있습니다.  \\n  ```python\\n  # 예시: \"urgent\" 키워드 감지 시 도구 호출\\n  if \"urgent\" in state[\"input\"]:\\n      return {\"next\": {\"self\": {\"tool\": \"lookup_tool\"}}}\\n  ```\\n- **병렬 처리**: 여러 도구를 동시에 호출해 효율성을 높일 수 있습니다.  \\n  (예: 동시에 문서 검색과 감정 분석 수행)\\n\\n**(2) 상태 지속성**  \\n- **장기 컨텍스트 유지**: 대화 기록, 사용자 프로필, 외부 데이터베이스와 연동해 상태를 지속적으로 관리합니다.  \\n  (예: 의료 진단 시스템에서 환자 이력 추적)\\n\\n**(3) 확장성 및 재사용성**  \\n- LangChain의 모든 컴포넌트(도구, 체인, 메모리)를 LangGraph 노드에 통합할 수 있어 기존 인프라를 활용할 수 있습니다.  \\n  (예: LangChain의 `ConversationBufferMemory`를 LangGraph 상태에 연결)\\n\\n**(4) 시각적 설계 및 디버깅**  \\n- Mermaid.js 등으로 워크플로우를 시각화해 팀 협업이나 복잡한 로직 디버깅에 유리합니다.  \\n  ```mermaid\\n  graph TD\\n    A[시작] --> B{질문 분류}\\n    B -->|FAQ| C[검색 도구 호출]\\n    B -->|복잡한 질문| D[인간 에이전트 전환]\\n  ```\\n\\n**(5) 실제 적용 사례**  \\n- **고객 지원 봇**: 질문 유형 분류 → FAQ 검색 또는 인간 전환 → 응답 후 만족도 평가.  \\n- **교육용 튜터**: 학습자 수준에 따라 문제 난이도 조정 및 피드백 제공.  \\n- **의료 진단 시스템**: 증상 입력 → 위험도 평가 → 검사 도구 호출 → 결과 종합.  \\n\\n---\\n\\n#### 4. **LangGraph의 주요 개념**\\n- **State**: 현재 노드, 변수, 메모리 등을 포함하는 Python 딕셔너리.  \\n- **Edge**: 상태 전환을 정의하는 조건식 (예: `lambda state: state[\"next_step\"] == \"confirm\"`).  \\n- **실행 모드**:  \\n  - `sequential`: 단계별 실행.  \\n  - `parallel`: 병렬 처리 (예: 여러 도구 동시 호출).  \\n\\n---\\n\\n#### 5. **언제 LangGraph를 선택할까?**\\n- **LangChain으로 충분한 경우**:  \\n  - 단순한 질의 응답, RAG(Retrieval-Augmented Generation), 선형 체인.  \\n- **LangGraph가 필요한 경우**:  \\n  - 다단계 프로세스, 상태 기반 추론, 조건부 분기, 장기 컨텍스트 관리가 필요한 애플리케이션.  \\n\\n> 💡 **결론**: LangGraph는 LangChain의 한계를 넘어 **복잡한 워크플로우와 상태 관리**가 필요한 LLM 애플리케이션에 적합한 도구입니다. 대화형 에이전트, 게임형 인터랙션, 의료/교육 시스템 등 고급 사용 사례에서 빛을 발합니다. 공식 문서와 예제 코드를 참고해 시작해 보세요!  \\n> [LangGraph GitHub](https://github.com/langchain-ai/langgraph)', additional_kwargs={'refusal': None}, response_metadata={'token_usage': {'completion_tokens': 1008, 'prompt_tokens': 1792, 'total_tokens': 2800, 'completion_tokens_details': {'accepted_prediction_tokens': 0, 'audio_tokens': 0, 'reasoning_tokens': 0, 'rejected_prediction_tokens': 0}, 'prompt_tokens_details': {'audio_tokens': 0, 'cached_tokens': 0}}, 'model_name': 'solar-pro2-250909', 'system_fingerprint': None, 'id': '94688cf8-6927-4b4d-8370-94678df8b90e', 'service_tier': None, 'finish_reason': 'stop', 'logprobs': None}, id='run--a2da3d0e-b285-4b0a-bc7e-aa0ebc1a6307-0', usage_metadata={'input_tokens': 1792, 'output_tokens': 1008, 'total_tokens': 2800, 'input_token_details': {'audio': 0, 'cache_read': 0}, 'output_token_details': {'audio': 0, 'reasoning': 0}})}\n"
          ]
        }
      ],
      "source": [
        "pprint(result)"
      ]
    },
    {
      "cell_type": "code",
      "execution_count": 22,
      "metadata": {},
      "outputs": [
        {
          "name": "stdout",
          "output_type": "stream",
          "text": [
            "('### LangGraph와 LangChain의 비교 및 LangGraph의 활용 이유\\n'\n",
            " '\\n'\n",
            " '#### 1. **LangGraph란?**\\n'\n",
            " 'LangGraph는 **상태(State) 기반의 복잡한 LLM(Large Language Model) 애플리케이션**을 구축하기 위한 '\n",
            " '프레임워크로, LangChain의 확장 도구입니다. 특히 **대화형 에이전트, 워크플로우 관리, 상태 기반 추론**이 필요한 시스템에 '\n",
            " '최적화되어 있습니다.  \\n'\n",
            " '- **주요 특징**:  \\n'\n",
            " '  - **그래프 기반 워크플로우**: 노드(상태)와 에지(전환)로 구성된 유한 상태 머신(FSM)을 구현해 조건부 분기, 루프, 병렬 '\n",
            " '처리 등을 지원합니다.  \\n'\n",
            " '  - **상태 지속성**: 사용자 세션, 메모리, 외부 데이터베이스(PostgreSQL, 벡터 DB 등)와 연동해 장기적인 컨텍스트를 '\n",
            " '유지합니다.  \\n'\n",
            " '  - **확장성**: LangChain의 체인, 도구, 메모리 컴포넌트와 호환되어 기존 코드 재사용이 용이합니다.  \\n'\n",
            " '\\n'\n",
            " '---\\n'\n",
            " '\\n'\n",
            " '#### 2. **LangChain vs. LangGraph: 핵심 차이점**\\n'\n",
            " '| **기준**         | **LangChain**                          | '\n",
            " '**LangGraph**                          |\\n'\n",
            " '|------------------|----------------------------------------|----------------------------------------|\\n'\n",
            " '| **목적**         | LLM 기반 애플리케이션의 **모듈 조합**  | **상태 관리**와 **동적 워크플로우 제어** |\\n'\n",
            " '| **구조**         | 선형 체인 또는 간단한 분기            | 그래프 기반 상태 '\n",
            " '머신                  |\\n'\n",
            " '| **사용 사례**    | 단일 질의 응답, RAG, 간단한 체인       | 대화형 에이전트, 다단계 프로세스       |\\n'\n",
            " '| **상태 관리**    | 기본 메모리 지원 (예: 대화 기록)       | 명시적 상태 저장 및 전환 로직          |\\n'\n",
            " '| **복잡성**       | 단순한 파이프라인                      | 조건부 분기, 루프, 병렬 처리 가능      '\n",
            " '|\\n'\n",
            " '\\n'\n",
            " '- **예시**:  \\n'\n",
            " '  - LangChain: \"문서 검색 → 요약 생성\"과 같은 선형 파이프라인.  \\n'\n",
            " '  - LangGraph: \"사용자 질문 분류 → FAQ 검색 또는 인간 에이전트 전환 → 응답 후 만족도 평가\"와 같은 동적 '\n",
            " '흐름.  \\n'\n",
            " '\\n'\n",
            " '---\\n'\n",
            " '\\n'\n",
            " '#### 3. **LangGraph를 사용해야 하는 이유**\\n'\n",
            " '**(1) 복잡한 워크플로우 관리**  \\n'\n",
            " '- **조건부 분기**: 사용자 입력이나 시스템 상태에 따라 다른 경로로 전환할 수 있습니다.  \\n'\n",
            " '  ```python\\n'\n",
            " '  # 예시: \"urgent\" 키워드 감지 시 도구 호출\\n'\n",
            " '  if \"urgent\" in state[\"input\"]:\\n'\n",
            " '      return {\"next\": {\"self\": {\"tool\": \"lookup_tool\"}}}\\n'\n",
            " '  ```\\n'\n",
            " '- **병렬 처리**: 여러 도구를 동시에 호출해 효율성을 높일 수 있습니다.  \\n'\n",
            " '  (예: 동시에 문서 검색과 감정 분석 수행)\\n'\n",
            " '\\n'\n",
            " '**(2) 상태 지속성**  \\n'\n",
            " '- **장기 컨텍스트 유지**: 대화 기록, 사용자 프로필, 외부 데이터베이스와 연동해 상태를 지속적으로 관리합니다.  \\n'\n",
            " '  (예: 의료 진단 시스템에서 환자 이력 추적)\\n'\n",
            " '\\n'\n",
            " '**(3) 확장성 및 재사용성**  \\n'\n",
            " '- LangChain의 모든 컴포넌트(도구, 체인, 메모리)를 LangGraph 노드에 통합할 수 있어 기존 인프라를 활용할 수 '\n",
            " '있습니다.  \\n'\n",
            " '  (예: LangChain의 `ConversationBufferMemory`를 LangGraph 상태에 연결)\\n'\n",
            " '\\n'\n",
            " '**(4) 시각적 설계 및 디버깅**  \\n'\n",
            " '- Mermaid.js 등으로 워크플로우를 시각화해 팀 협업이나 복잡한 로직 디버깅에 유리합니다.  \\n'\n",
            " '  ```mermaid\\n'\n",
            " '  graph TD\\n'\n",
            " '    A[시작] --> B{질문 분류}\\n'\n",
            " '    B -->|FAQ| C[검색 도구 호출]\\n'\n",
            " '    B -->|복잡한 질문| D[인간 에이전트 전환]\\n'\n",
            " '  ```\\n'\n",
            " '\\n'\n",
            " '**(5) 실제 적용 사례**  \\n'\n",
            " '- **고객 지원 봇**: 질문 유형 분류 → FAQ 검색 또는 인간 전환 → 응답 후 만족도 평가.  \\n'\n",
            " '- **교육용 튜터**: 학습자 수준에 따라 문제 난이도 조정 및 피드백 제공.  \\n'\n",
            " '- **의료 진단 시스템**: 증상 입력 → 위험도 평가 → 검사 도구 호출 → 결과 종합.  \\n'\n",
            " '\\n'\n",
            " '---\\n'\n",
            " '\\n'\n",
            " '#### 4. **LangGraph의 주요 개념**\\n'\n",
            " '- **State**: 현재 노드, 변수, 메모리 등을 포함하는 Python 딕셔너리.  \\n'\n",
            " '- **Edge**: 상태 전환을 정의하는 조건식 (예: `lambda state: state[\"next_step\"] == '\n",
            " '\"confirm\"`).  \\n'\n",
            " '- **실행 모드**:  \\n'\n",
            " '  - `sequential`: 단계별 실행.  \\n'\n",
            " '  - `parallel`: 병렬 처리 (예: 여러 도구 동시 호출).  \\n'\n",
            " '\\n'\n",
            " '---\\n'\n",
            " '\\n'\n",
            " '#### 5. **언제 LangGraph를 선택할까?**\\n'\n",
            " '- **LangChain으로 충분한 경우**:  \\n'\n",
            " '  - 단순한 질의 응답, RAG(Retrieval-Augmented Generation), 선형 체인.  \\n'\n",
            " '- **LangGraph가 필요한 경우**:  \\n'\n",
            " '  - 다단계 프로세스, 상태 기반 추론, 조건부 분기, 장기 컨텍스트 관리가 필요한 애플리케이션.  \\n'\n",
            " '\\n'\n",
            " '> 💡 **결론**: LangGraph는 LangChain의 한계를 넘어 **복잡한 워크플로우와 상태 관리**가 필요한 LLM '\n",
            " '애플리케이션에 적합한 도구입니다. 대화형 에이전트, 게임형 인터랙션, 의료/교육 시스템 등 고급 사용 사례에서 빛을 발합니다. 공식 '\n",
            " '문서와 예제 코드를 참고해 시작해 보세요!  \\n'\n",
            " '> [LangGraph GitHub](https://github.com/langchain-ai/langgraph)')\n"
          ]
        }
      ],
      "source": [
        "pprint(result['final_answer'].content)"
      ]
    }
  ],
  "metadata": {
    "kernelspec": {
      "display_name": "mylangchain-app-SBe-Yh6W-py3.12",
      "language": "python",
      "name": "python3"
    },
    "language_info": {
      "codemirror_mode": {
        "name": "ipython",
        "version": 3
      },
      "file_extension": ".py",
      "mimetype": "text/x-python",
      "name": "python",
      "nbconvert_exporter": "python",
      "pygments_lexer": "ipython3",
      "version": "3.12.7"
    }
  },
  "nbformat": 4,
  "nbformat_minor": 2
}
