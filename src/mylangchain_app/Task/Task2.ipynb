{
 "cells": [
  {
   "cell_type": "code",
   "execution_count": 1,
   "id": "4411042d",
   "metadata": {},
   "outputs": [
    {
     "name": "stdout",
     "output_type": "stream",
     "text": [
      "gsk_n\n"
     ]
    }
   ],
   "source": [
    "from dotenv import load_dotenv\n",
    "import os\n",
    "load_dotenv(dotenv_path='.env')\n",
    "\n",
    "OPENAI_API_KEY = os.getenv(\"OPENAI_API_KEY\")\n",
    "print(OPENAI_API_KEY[:5])"
   ]
  },
  {
   "cell_type": "markdown",
   "id": "726058a6",
   "metadata": {},
   "source": [
    "문제 2-1 : 콤마 구분 리스트 파서 활용"
   ]
  },
  {
   "cell_type": "code",
   "execution_count": null,
   "id": "98b9ff6a",
   "metadata": {},
   "outputs": [
    {
     "name": "stdout",
     "output_type": "stream",
     "text": [
      "예시 입력: 음식\n",
      "예시 출력:\n",
      "['서울의 한옥마을 음식거리', '부산의 광복동 먹자골목', '전주한정식마을', '여수 먹거리 골목', '경주의 황남빵마을']\n"
     ]
    }
   ],
   "source": [
    "from langchain_core.output_parsers import CommaSeparatedListOutputParser\n",
    "from langchain_core.prompts import PromptTemplate\n",
    "from langchain_openai import ChatOpenAI\n",
    "\n",
    "output_parser = CommaSeparatedListOutputParser()\n",
    "\n",
    "format_instructions = output_parser.get_format_instructions()\n",
    "\n",
    "prompt = PromptTemplate(\n",
    "    template=\"{subject}와(과) 관련된 한국의 유명한 장소나 활동 5가지를 추천해줘.\\n{format_instructions}\",\n",
    "    input_variables=[\"subject\"],\n",
    "    partial_variables={\"format_instructions\": format_instructions},\n",
    ")\n",
    "\n",
    "llm = ChatOpenAI(\n",
    "    api_key=OPENAI_API_KEY,\n",
    "    base_url=\"https://api.groq.com/openai/v1\",\n",
    "    model=\"meta-llama/llama-4-scout-17b-16e-instruct\",\n",
    "    temperature=0\n",
    ")\n",
    "\n",
    "chain = prompt | llm | output_parser\n",
    "\n",
    "user_input = \"음식\"\n",
    "# input(\"관심 분야를 입력하세요 (예: 음식, 스포츠, 영화): \")\n",
    "\n",
    "result = chain.invoke({\"subject\": user_input})\n",
    "\n",
    "print(\"예시 입력: \" + user_input)\n",
    "print(\"예시 출력:\")\n",
    "print(result)"
   ]
  },
  {
   "cell_type": "markdown",
   "id": "c1e23702",
   "metadata": {},
   "source": [
    "문제 2-2 : 영화 리뷰 감정 분석기"
   ]
  },
  {
   "cell_type": "code",
   "execution_count": null,
   "id": "f95fc843",
   "metadata": {},
   "outputs": [],
   "source": [
    "from langchain_openai import ChatOpenAI\n",
    "from langchain_core.prompts import ChatPromptTemplate\n",
    "from langchain.output_parsers import EnumOutputParser, OutputFixingParser\n",
    "from langchain.schema import OutputParserException\n",
    "\n",
    "from enum import Enum\n",
    "\n",
    "class Sentiment(str, Enum):\n",
    "    POSITIVE = \"긍정\"\n",
    "    NEGATIVE = \"부정\"\n",
    "    NEUTRAL = \"보통\"\n",
    "\n",
    "parser = EnumOutputParser(enum=Sentiment)\n",
    "format_instructions = parser.get_format_instructions()\n",
    "\n",
    "template = \"\"\"\n",
    "당신은 영화 리뷰 텍스트 감정 분석 전문가입니다.\n",
    "다음 텍스트의 감정을 분석하고, 반드시 아래 세 가지 중 하나의 단어로만 답변하세요.\n",
    "\n",
    "텍스트: \"{text}\"\n",
    "\n",
    "{format_instructions}\n",
    "\n",
    "중요 규칙:\n",
    "1. 반드시 \"긍정\", \"부정\", \"보통\" 중 하나의 단어만 출력하세요\n",
    "2. 다른 설명이나 부가 설명을 추가하지 마세요\n",
    "3. 이모지나 특수문자도 포함하지 마세요\n",
    "4. 오직 하나의 단어만 출력하세요\n",
    "\n",
    "답변:\"\"\"\n",
    "\n",
    "prompt = ChatPromptTemplate.from_template(template)\n",
    "prompt = prompt.partial(format_instructions=format_instructions)\n",
    "\n",
    "model = ChatOpenAI(\n",
    "    api_key=OPENAI_API_KEY,\n",
    "    base_url=\"https://api.groq.com/openai/v1\",\n",
    "    model=\"meta-llama/llama-4-scout-17b-16e-instruct\",\n",
    "    temperature=0\n",
    ")\n",
    "\n",
    "fixing_parser = OutputFixingParser.from_llm(parser=parser, llm=model)\n",
    "\n",
    "texts = [\n",
    "    \"이 영화 정말 재미없어요. 시간 낭비였습니다.\",\n",
    "    \"배우들의 연기가 훌륭하고 스토리도 감동적이었어요!\",\n",
    "    \"그냥 무난한 영화였습니다. 나쁘지도 좋지도 않아요.\"\n",
    "]"
   ]
  },
  {
   "cell_type": "code",
   "execution_count": 6,
   "id": "1e85b67c",
   "metadata": {},
   "outputs": [
    {
     "name": "stdout",
     "output_type": "stream",
     "text": [
      "테스트 리뷰 예시:\n",
      "\n",
      "1. 이 영화 정말 재미없어요. 시간 낭비였습니다.\n",
      "   감정: 부정 \n",
      "\n",
      "2. 배우들의 연기가 훌륭하고 스토리도 감동적이었어요!\n",
      "   감정: 긍정 \n",
      "\n",
      "3. 그냥 무난한 영화였습니다. 나쁘지도 좋지도 않아요.\n",
      "   감정: 보통 \n",
      "\n",
      "=== 결과 요약 ===\n",
      "성공: 3/3 (100.0%)\n",
      "실패: 0/3\n"
     ]
    }
   ],
   "source": [
    "\n",
    "def safe_sentiment_analysis(text, use_fixing_parser=True):\n",
    "    try:\n",
    "        chain = prompt | model | (fixing_parser if use_fixing_parser else parser)\n",
    "        \n",
    "        result = chain.invoke({\"text\": text})\n",
    "        return result, None\n",
    "        \n",
    "    except OutputParserException as e:\n",
    "        return None, f\"파싱 오류: {str(e)[:100]}...\"\n",
    "    except Exception as e:\n",
    "        return None, f\"일반 오류: {str(e)[:100]}...\"\n",
    "\n",
    "def run_sentiment_analysis():\n",
    "    print(\"테스트 리뷰 예시:\")\n",
    "\n",
    "    success_count = 0\n",
    "    total_count = len(texts)\n",
    "    \n",
    "    for i, text in enumerate(texts, 1):\n",
    "        print(f\"\\n{i}. {text}\")\n",
    "        \n",
    "        result, error = safe_sentiment_analysis(text, use_fixing_parser=True)\n",
    "        \n",
    "        if result:\n",
    "            print(f\"   감정: {result.value} \")\n",
    "            success_count += 1\n",
    "        else:\n",
    "            print(f\"   오류: {error} \")\n",
    "            \n",
    "            print(\"   기본 파서로 재시도...\")\n",
    "            result2, error2 = safe_sentiment_analysis(text, use_fixing_parser=False)\n",
    "            \n",
    "            if result2:\n",
    "                print(f\"   감정: {result2.value} (기본 파서 성공)\")\n",
    "                success_count += 1\n",
    "            else:\n",
    "                print(f\"   재시도 실패: {error2} \")\n",
    "    \n",
    "    print(f\"\\n=== 결과 요약 ===\")\n",
    "    print(f\"성공: {success_count}/{total_count} ({success_count/total_count*100:.1f}%)\")\n",
    "    print(f\"실패: {total_count-success_count}/{total_count}\")\n",
    "\n",
    "try:\n",
    "    run_sentiment_analysis()\n",
    "except Exception as e:\n",
    "    print(\"API 키가 설정되지 않았거나 네트워크 오류:\")\n",
    "    print(\"실제 실행을 위해서는 OpenAI API 키를 설정하세요.\")\n",
    "    print(f\"오류 상세: {e}\")"
   ]
  },
  {
   "cell_type": "markdown",
   "id": "21db4b12",
   "metadata": {},
   "source": [
    "문제 2-3 : 학생 정보 구조화 시스템"
   ]
  },
  {
   "cell_type": "code",
   "execution_count": 8,
   "id": "2ce711fd",
   "metadata": {},
   "outputs": [
    {
     "name": "stdout",
     "output_type": "stream",
     "text": [
      "{'age': 22,\n",
      " 'goal': '훌륭한 개발자가 되는 것',\n",
      " 'hobbies': ['게임하기', '영화보기', '코딩'],\n",
      " 'major': '컴퓨터공학',\n",
      " 'name': '김민수'}\n"
     ]
    }
   ],
   "source": [
    "from langchain_openai import ChatOpenAI\n",
    "from langchain_core.prompts import ChatPromptTemplate\n",
    "from langchain.output_parsers import PydanticOutputParser\n",
    "\n",
    "from pydantic import BaseModel, Field\n",
    "from typing import List\n",
    "from pprint import pprint\n",
    "\n",
    "class SelfIntroduction(BaseModel):\n",
    "    name: str = Field(description=\"이름\")\n",
    "    age: int = Field(description=\"나이\")\n",
    "    major: str = Field(description=\"전공\")\n",
    "    hobbies: List[str] = Field(description=\"취미 리스트\")\n",
    "    goal: str = Field(description=\"목표\")\n",
    "\n",
    "parser = PydanticOutputParser(pydantic_object=SelfIntroduction)\n",
    "\n",
    "template = \"\"\"\n",
    "다음 사용자 자기소개를 입력받아 이름, 나이, 전공, 취미 리스트, 목표를 구조화된 형태의 자기소개서를 완성해 주세요.\n",
    "입력: {input}\n",
    "\n",
    "{format_instructions}\n",
    "\"\"\"\n",
    "\n",
    "prompt = ChatPromptTemplate.from_template(template)\n",
    "\n",
    "prompt = prompt.partial(\n",
    "    format_instructions=parser.get_format_instructions()\n",
    ")\n",
    "\n",
    "model = ChatOpenAI(\n",
    "    api_key=OPENAI_API_KEY,\n",
    "    base_url=\"https://api.groq.com/openai/v1\",\n",
    "    model=\"meta-llama/llama-4-scout-17b-16e-instruct\",\n",
    "    temperature=0\n",
    ")\n",
    "\n",
    "input = \"안녕하세요! 저는 김민수이고 22살입니다. 컴퓨터공학을 전공하고 있어요. 취미로는 게임하기, 영화보기, 코딩을 좋아합니다. 앞으로 훌륭한 개발자가 되는 것이 목표입니다.\"\n",
    "chain = prompt | model | parser\n",
    "output = chain.invoke({\"input\": input})\n",
    "\n",
    "pprint(output.model_dump())"
   ]
  },
  {
   "cell_type": "markdown",
   "id": "1fd0e36e",
   "metadata": {},
   "source": [
    "문제 2-4 : 여행 계획 분석기"
   ]
  },
  {
   "cell_type": "code",
   "execution_count": 12,
   "id": "a4988011",
   "metadata": {},
   "outputs": [
    {
     "name": "stdout",
     "output_type": "stream",
     "text": [
      "{'activities': ['해운대 바다 구경', '자갈치시장에서 회 먹기', '감천문화마을 구경'],\n",
      " 'budget': '30만원',\n",
      " 'destination': '부산',\n",
      " 'duration': '2박 3일',\n",
      " 'rating': '4'}\n"
     ]
    }
   ],
   "source": [
    "from langchain_openai import ChatOpenAI\n",
    "from langchain_core.prompts import ChatPromptTemplate\n",
    "from langchain.output_parsers import StructuredOutputParser, ResponseSchema\n",
    "\n",
    "from pprint import pprint\n",
    "\n",
    "response_schemas = [\n",
    "    ResponseSchema(name=\"destination\", description=\"여행지\"),\n",
    "    ResponseSchema(name=\"duration\", description=\"여행 기간\"),\n",
    "    ResponseSchema(name=\"budget\", description=\"여행 예산\"),\n",
    "    ResponseSchema(name=\"rating\", description=\"1-5점 사이의 추천도\"),\n",
    "    ResponseSchema(name=\"activities\", description=\"주요 활동 리스트\", type=\"list[str]\")\n",
    "]\n",
    "\n",
    "parser = StructuredOutputParser.from_response_schemas(response_schemas)\n",
    "format_instructions = parser.get_format_instructions()\n",
    "\n",
    "template = \"\"\"\n",
    "다음 여행 후기나 계획 텍스트를 분석하세요. 여행 후기나 계획 텍스트: {review}\n",
    "\n",
    "{format_instructions}\n",
    "\"\"\"\n",
    "\n",
    "prompt = ChatPromptTemplate.from_template(template)\n",
    "prompt = prompt.partial(format_instructions=format_instructions)\n",
    "\n",
    "model = ChatOpenAI(\n",
    "    api_key=OPENAI_API_KEY,\n",
    "    base_url=\"https://api.groq.com/openai/v1\",\n",
    "    model=\"meta-llama/llama-4-scout-17b-16e-instruct\",\n",
    "    temperature=0\n",
    ")\n",
    "\n",
    "review = \"지난 주에 부산으로 2박 3일 여행을 다녀왔어요. 총 30만원 정도 썼는데 해운대에서 바다구경하고, 자갈치시장에서 회 먹고, 감천문화마을도 구경했어요. 정말 만족스러운 여행이었습니다. 5점 만점에 4점 정도 줄 수 있을 것 같아요.\"\n",
    "\n",
    "chain = prompt | model | parser\n",
    "\n",
    "output = chain.invoke({\"review\": review})\n",
    "pprint(output)"
   ]
  }
 ],
 "metadata": {
  "kernelspec": {
   "display_name": "mylangchain-app-SBe-Yh6W-py3.12",
   "language": "python",
   "name": "python3"
  },
  "language_info": {
   "codemirror_mode": {
    "name": "ipython",
    "version": 3
   },
   "file_extension": ".py",
   "mimetype": "text/x-python",
   "name": "python",
   "nbconvert_exporter": "python",
   "pygments_lexer": "ipython3",
   "version": "3.12.7"
  }
 },
 "nbformat": 4,
 "nbformat_minor": 5
}
